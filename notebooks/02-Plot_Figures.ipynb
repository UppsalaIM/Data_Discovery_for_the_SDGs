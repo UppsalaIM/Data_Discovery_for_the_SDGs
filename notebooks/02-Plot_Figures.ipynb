{
 "cells": [
  {
   "cell_type": "code",
   "execution_count": 1,
   "id": "549be408",
   "metadata": {},
   "outputs": [],
   "source": [
    "# Original source code by Yuwei Jiang @YuweiJ98, modfiied by David Johnson @djcomlab"
   ]
  },
  {
   "cell_type": "code",
   "execution_count": 2,
   "id": "ead35ab8",
   "metadata": {},
   "outputs": [
    {
     "data": {
      "text/html": [
       "        <script type=\"text/javascript\">\n",
       "        window.PlotlyConfig = {MathJaxConfig: 'local'};\n",
       "        if (window.MathJax && window.MathJax.Hub && window.MathJax.Hub.Config) {window.MathJax.Hub.Config({SVG: {font: \"STIX-Web\"}});}\n",
       "        if (typeof require !== 'undefined') {\n",
       "        require.undef(\"plotly\");\n",
       "        requirejs.config({\n",
       "            paths: {\n",
       "                'plotly': ['https://cdn.plot.ly/plotly-2.20.0.min']\n",
       "            }\n",
       "        });\n",
       "        require(['plotly'], function(Plotly) {\n",
       "            window._Plotly = Plotly;\n",
       "        });\n",
       "        }\n",
       "        </script>\n",
       "        "
      ]
     },
     "metadata": {},
     "output_type": "display_data"
    }
   ],
   "source": [
    "import pandas as pd\n",
    "import plotly.express as px\n",
    "import plotly.offline as py\n",
    "py.init_notebook_mode(connected=True)\n",
    "import PyPDF2"
   ]
  },
  {
   "cell_type": "code",
   "execution_count": 3,
   "id": "b8589712",
   "metadata": {},
   "outputs": [
    {
     "data": {
      "text/plain": [
       "(399, 3)"
      ]
     },
     "execution_count": 3,
     "metadata": {},
     "output_type": "execute_result"
    }
   ],
   "source": [
    "large_paper_table = pd.read_excel('../data/sdg7-coding-auto.xlsx')\n",
    "large_paper_table.shape"
   ]
  },
  {
   "cell_type": "code",
   "execution_count": 4,
   "id": "2b3db7ee",
   "metadata": {},
   "outputs": [],
   "source": [
    "# get all the paper titles\n",
    "paper_titles = large_paper_table.title.unique()\n",
    "title_list = paper_titles.tolist()"
   ]
  },
  {
   "cell_type": "code",
   "execution_count": 5,
   "id": "e37eeb5c",
   "metadata": {},
   "outputs": [],
   "source": [
    "# convert all the expressions to abbreviations if they have abbreviations, i.e. United Nations -> UN\n",
    "def convert_to_abbr(string):\n",
    "    string = string.replace('Food and Agriculture organization of the United Nations','FAO').replace('FAOSTAT','FAO').replace('United Nations','UN').replace('Sustainable Development Solutions Network','SDSN').replace('United Nations Educational, Scientific and Cultural Organization','UNESCO').replace('Emissions Database for Global Atmospheric Research','EDGAR').replace('European Soil Data Center','ESDAC').replace('ES-DAC','ESDAC').replace('International Energy Agency','IEA').replace('Organisation for Economic Co-operation and Development','OECD').replace('International Monetary Fund','IMF').replace('Statistical, Economic, and Social Research and Training Center for Islamic Countries','SESRIC').replace('Asian Development Bank','ADB').replace('World Health Organization','WHO').replace('Global Administrative Areas','GADM').replace('Federation Federal State Statistics Service','Rosstat').replace('Department of Statistics Malaysia','DOSM').replace('Federal Institute for Geosciences and Natural Resources','BGR').replace('National Planning Commission','NPC').replace('National Environmental Protection Agency','ANPM').replace('Energy Information Administration','EIA').replace('Ministry of Domestic Trade Co-operatives and Consumerism','MDTCC').replace('National Oceanic and Atmospheric Administration','NOAA').replace('National Aeronautics and Space Administration','NASA').replace('sensing','sensor').replace('OpenStreetMap','OSM')\n",
    "    return string"
   ]
  },
  {
   "cell_type": "code",
   "execution_count": 6,
   "id": "9c3a9ca2",
   "metadata": {},
   "outputs": [
    {
     "data": {
      "text/plain": [
       "[['solar', 'electricity', 'survey', 'World Bank'],\n",
       " ['biomass', 'land', 'National Institute of Statistics', 'ANPM'],\n",
       " ['land', 'DOSM', 'MDTCC', 'OSM'],\n",
       " ['Eurostat', 'electricity', 'heat'],\n",
       " ['heat', 'electricity'],\n",
       " ['water', 'land', 'GIS'],\n",
       " ['electricity'],\n",
       " ['UN', 'solar'],\n",
       " ['Eurostat'],\n",
       " ['interview', 'survey', 'questionnaire'],\n",
       " ['Eurostat'],\n",
       " ['UN',\n",
       "  'satellite imagery',\n",
       "  'GIS',\n",
       "  'solar',\n",
       "  'electricity',\n",
       "  'water',\n",
       "  'land',\n",
       "  'World Bank',\n",
       "  'biomass'],\n",
       " ['water', 'survey', 'World Bank', 'IEA', 'ADB', 'UN', 'FAO', 'WHO'],\n",
       " ['Eurostat',\n",
       "  'World Bank',\n",
       "  'OECD',\n",
       "  'IMF',\n",
       "  'Global Carbon Atlas',\n",
       "  'Rosstat',\n",
       "  'land'],\n",
       " ['electricity',\n",
       "  'survey',\n",
       "  'World Bank',\n",
       "  'sensor',\n",
       "  'satellite imagery',\n",
       "  'census',\n",
       "  'GADM'],\n",
       " ['World Bank', 'land'],\n",
       " ['census', 'satellite imagery'],\n",
       " ['UN', 'SDSN', 'World Bank', 'OECD', 'survey', 'FAO', 'WHO'],\n",
       " ['survey', 'solar'],\n",
       " ['water', 'land', 'heat'],\n",
       " ['World Bank', 'sensor', 'electricity'],\n",
       " ['survey',\n",
       "  'solar',\n",
       "  'electricity',\n",
       "  'interview',\n",
       "  'focus group',\n",
       "  'World Bank',\n",
       "  'UN'],\n",
       " ['solar'],\n",
       " ['mineral'],\n",
       " ['electricity',\n",
       "  'survey',\n",
       "  'GIS',\n",
       "  'land',\n",
       "  'satellite imagery',\n",
       "  'census',\n",
       "  'solar'],\n",
       " ['FAO', 'UN', 'land', 'World Bank', 'biomass'],\n",
       " ['questionnaire', 'land', 'UN'],\n",
       " ['water', 'land', 'survey'],\n",
       " ['electricity', 'World Bank', 'survey'],\n",
       " ['SESRIC'],\n",
       " ['electricity', 'Eurostat', 'World Bank'],\n",
       " ['electricity', 'World Bank', 'UN', 'EIA'],\n",
       " ['sensor', 'satellite imagery', 'GPS'],\n",
       " ['GIS',\n",
       "  'OSM',\n",
       "  'World Bank',\n",
       "  'water',\n",
       "  'land',\n",
       "  'survey',\n",
       "  'GPS',\n",
       "  'UN',\n",
       "  'electricity',\n",
       "  'census'],\n",
       " ['UN', 'OECD'],\n",
       " ['Eurostat'],\n",
       " ['biomass', 'land', 'survey', 'UN', 'IEA', 'ADB'],\n",
       " ['UN', 'electricity', 'satellite imagery', 'water', 'GADM'],\n",
       " ['UN', 'electricity', 'World Bank', 'survey', 'water'],\n",
       " ['World Bank', 'UN', 'Freedom House'],\n",
       " ['solar', 'OECD'],\n",
       " ['interview', 'electricity', 'World Bank', 'biomass'],\n",
       " ['survey'],\n",
       " ['weather', 'questionnaire'],\n",
       " ['electricity', 'survey'],\n",
       " ['UN',\n",
       "  'GIS',\n",
       "  'electricity',\n",
       "  'IEA',\n",
       "  'satellite imagery',\n",
       "  'water',\n",
       "  'OSM',\n",
       "  'census',\n",
       "  'solar',\n",
       "  'World Bank'],\n",
       " ['World Bank', 'EIA'],\n",
       " ['UN', 'UNESCO'],\n",
       " ['survey', 'water', 'electricity', 'census'],\n",
       " ['IEA', 'survey', 'World Bank'],\n",
       " ['solar', 'land', 'World Bank', 'electricity', 'Eurostat'],\n",
       " ['IEA']]"
      ]
     },
     "execution_count": 6,
     "metadata": {},
     "output_type": "execute_result"
    }
   ],
   "source": [
    "# create a list to store data resources for all the papers\n",
    "resources_list=[]\n",
    "for i in range(len(title_list)):\n",
    "    # get all the datasource for a single paper\n",
    "    paper_title = title_list[i]\n",
    "    paper_df = large_paper_table[large_paper_table.title == paper_title]\n",
    "    # 1. replace full names with abbr. for each cell in the column \"data\"\n",
    "    data_list = paper_df['Data'].apply(convert_to_abbr).tolist()\n",
    "    # 2. integrate the data column into a single string\n",
    "    data_string = ','.join(data_list)\n",
    "    # 3. split the string into a list, and remove all the duplicates\n",
    "    data_list_abbr = data_string.split(',')\n",
    "    data_list_abbr = list(dict.fromkeys(data_list_abbr))\n",
    "    # 4. append\n",
    "    resources_list.append(data_list_abbr)\n",
    "    \n",
    "resources_list"
   ]
  },
  {
   "cell_type": "code",
   "execution_count": 7,
   "id": "c8d31dba",
   "metadata": {},
   "outputs": [
    {
     "name": "stdout",
     "output_type": "stream",
     "text": [
      "solar 10\n",
      "electricity 20\n",
      "survey 17\n",
      "World Bank 21\n",
      "biomass 5\n",
      "land 14\n",
      "National Institute of Statistics 1\n",
      "ANPM 1\n",
      "DOSM 1\n",
      "MDTCC 1\n",
      "OSM 3\n",
      "Eurostat 7\n",
      "heat 3\n",
      "water 10\n",
      "GIS 5\n",
      "UN 16\n",
      "interview 3\n",
      "questionnaire 3\n",
      "satellite imagery 7\n",
      "IEA 5\n",
      "ADB 2\n",
      "FAO 3\n",
      "WHO 2\n",
      "OECD 4\n",
      "IMF 1\n",
      "Global Carbon Atlas 1\n",
      "Rosstat 1\n",
      "sensor 3\n",
      "census 6\n",
      "GADM 2\n",
      "SDSN 1\n",
      "focus group 1\n",
      "mineral 1\n",
      "SESRIC 1\n",
      "EIA 2\n",
      "GPS 2\n",
      "Freedom House 1\n",
      "weather 1\n",
      "UNESCO 1\n"
     ]
    }
   ],
   "source": [
    "def CountFrequency(my_list):\n",
    "    # Creating an empty dictionary\n",
    "    freq = {}\n",
    "    for single_list in my_list:\n",
    "        for item in single_list:\n",
    "            if (item in freq):\n",
    "                freq[item] += 1\n",
    "            else:\n",
    "                freq[item] = 1\n",
    "    return freq\n",
    "\n",
    "resource_freq = CountFrequency(resources_list)\n",
    "for key, value in resource_freq.items():\n",
    "    print (key,value)"
   ]
  },
  {
   "cell_type": "code",
   "execution_count": 8,
   "id": "97e88671",
   "metadata": {},
   "outputs": [
    {
     "data": {
      "text/html": [
       "<div>\n",
       "<style scoped>\n",
       "    .dataframe tbody tr th:only-of-type {\n",
       "        vertical-align: middle;\n",
       "    }\n",
       "\n",
       "    .dataframe tbody tr th {\n",
       "        vertical-align: top;\n",
       "    }\n",
       "\n",
       "    .dataframe thead th {\n",
       "        text-align: right;\n",
       "    }\n",
       "</style>\n",
       "<table border=\"1\" class=\"dataframe\">\n",
       "  <thead>\n",
       "    <tr style=\"text-align: right;\">\n",
       "      <th></th>\n",
       "      <th>resources</th>\n",
       "      <th>freq</th>\n",
       "    </tr>\n",
       "  </thead>\n",
       "  <tbody>\n",
       "    <tr>\n",
       "      <th>0</th>\n",
       "      <td>solar</td>\n",
       "      <td>10</td>\n",
       "    </tr>\n",
       "    <tr>\n",
       "      <th>1</th>\n",
       "      <td>electricity</td>\n",
       "      <td>20</td>\n",
       "    </tr>\n",
       "    <tr>\n",
       "      <th>2</th>\n",
       "      <td>survey</td>\n",
       "      <td>17</td>\n",
       "    </tr>\n",
       "    <tr>\n",
       "      <th>3</th>\n",
       "      <td>World Bank</td>\n",
       "      <td>21</td>\n",
       "    </tr>\n",
       "    <tr>\n",
       "      <th>4</th>\n",
       "      <td>biomass</td>\n",
       "      <td>5</td>\n",
       "    </tr>\n",
       "    <tr>\n",
       "      <th>5</th>\n",
       "      <td>land</td>\n",
       "      <td>14</td>\n",
       "    </tr>\n",
       "    <tr>\n",
       "      <th>6</th>\n",
       "      <td>National Institute of Statistics</td>\n",
       "      <td>1</td>\n",
       "    </tr>\n",
       "    <tr>\n",
       "      <th>7</th>\n",
       "      <td>ANPM</td>\n",
       "      <td>1</td>\n",
       "    </tr>\n",
       "    <tr>\n",
       "      <th>8</th>\n",
       "      <td>DOSM</td>\n",
       "      <td>1</td>\n",
       "    </tr>\n",
       "    <tr>\n",
       "      <th>9</th>\n",
       "      <td>MDTCC</td>\n",
       "      <td>1</td>\n",
       "    </tr>\n",
       "    <tr>\n",
       "      <th>10</th>\n",
       "      <td>OSM</td>\n",
       "      <td>3</td>\n",
       "    </tr>\n",
       "    <tr>\n",
       "      <th>11</th>\n",
       "      <td>Eurostat</td>\n",
       "      <td>7</td>\n",
       "    </tr>\n",
       "    <tr>\n",
       "      <th>12</th>\n",
       "      <td>heat</td>\n",
       "      <td>3</td>\n",
       "    </tr>\n",
       "    <tr>\n",
       "      <th>13</th>\n",
       "      <td>water</td>\n",
       "      <td>10</td>\n",
       "    </tr>\n",
       "    <tr>\n",
       "      <th>14</th>\n",
       "      <td>GIS</td>\n",
       "      <td>5</td>\n",
       "    </tr>\n",
       "    <tr>\n",
       "      <th>15</th>\n",
       "      <td>UN</td>\n",
       "      <td>16</td>\n",
       "    </tr>\n",
       "    <tr>\n",
       "      <th>16</th>\n",
       "      <td>interview</td>\n",
       "      <td>3</td>\n",
       "    </tr>\n",
       "    <tr>\n",
       "      <th>17</th>\n",
       "      <td>questionnaire</td>\n",
       "      <td>3</td>\n",
       "    </tr>\n",
       "    <tr>\n",
       "      <th>18</th>\n",
       "      <td>satellite imagery</td>\n",
       "      <td>7</td>\n",
       "    </tr>\n",
       "    <tr>\n",
       "      <th>19</th>\n",
       "      <td>IEA</td>\n",
       "      <td>5</td>\n",
       "    </tr>\n",
       "    <tr>\n",
       "      <th>20</th>\n",
       "      <td>ADB</td>\n",
       "      <td>2</td>\n",
       "    </tr>\n",
       "    <tr>\n",
       "      <th>21</th>\n",
       "      <td>FAO</td>\n",
       "      <td>3</td>\n",
       "    </tr>\n",
       "    <tr>\n",
       "      <th>22</th>\n",
       "      <td>WHO</td>\n",
       "      <td>2</td>\n",
       "    </tr>\n",
       "    <tr>\n",
       "      <th>23</th>\n",
       "      <td>OECD</td>\n",
       "      <td>4</td>\n",
       "    </tr>\n",
       "    <tr>\n",
       "      <th>24</th>\n",
       "      <td>IMF</td>\n",
       "      <td>1</td>\n",
       "    </tr>\n",
       "    <tr>\n",
       "      <th>25</th>\n",
       "      <td>Global Carbon Atlas</td>\n",
       "      <td>1</td>\n",
       "    </tr>\n",
       "    <tr>\n",
       "      <th>26</th>\n",
       "      <td>Rosstat</td>\n",
       "      <td>1</td>\n",
       "    </tr>\n",
       "    <tr>\n",
       "      <th>27</th>\n",
       "      <td>sensor</td>\n",
       "      <td>3</td>\n",
       "    </tr>\n",
       "    <tr>\n",
       "      <th>28</th>\n",
       "      <td>census</td>\n",
       "      <td>6</td>\n",
       "    </tr>\n",
       "    <tr>\n",
       "      <th>29</th>\n",
       "      <td>GADM</td>\n",
       "      <td>2</td>\n",
       "    </tr>\n",
       "    <tr>\n",
       "      <th>30</th>\n",
       "      <td>SDSN</td>\n",
       "      <td>1</td>\n",
       "    </tr>\n",
       "    <tr>\n",
       "      <th>31</th>\n",
       "      <td>focus group</td>\n",
       "      <td>1</td>\n",
       "    </tr>\n",
       "    <tr>\n",
       "      <th>32</th>\n",
       "      <td>mineral</td>\n",
       "      <td>1</td>\n",
       "    </tr>\n",
       "    <tr>\n",
       "      <th>33</th>\n",
       "      <td>SESRIC</td>\n",
       "      <td>1</td>\n",
       "    </tr>\n",
       "    <tr>\n",
       "      <th>34</th>\n",
       "      <td>EIA</td>\n",
       "      <td>2</td>\n",
       "    </tr>\n",
       "    <tr>\n",
       "      <th>35</th>\n",
       "      <td>GPS</td>\n",
       "      <td>2</td>\n",
       "    </tr>\n",
       "    <tr>\n",
       "      <th>36</th>\n",
       "      <td>Freedom House</td>\n",
       "      <td>1</td>\n",
       "    </tr>\n",
       "    <tr>\n",
       "      <th>37</th>\n",
       "      <td>weather</td>\n",
       "      <td>1</td>\n",
       "    </tr>\n",
       "    <tr>\n",
       "      <th>38</th>\n",
       "      <td>UNESCO</td>\n",
       "      <td>1</td>\n",
       "    </tr>\n",
       "  </tbody>\n",
       "</table>\n",
       "</div>"
      ],
      "text/plain": [
       "                           resources  freq\n",
       "0                              solar    10\n",
       "1                        electricity    20\n",
       "2                             survey    17\n",
       "3                         World Bank    21\n",
       "4                            biomass     5\n",
       "5                               land    14\n",
       "6   National Institute of Statistics     1\n",
       "7                               ANPM     1\n",
       "8                               DOSM     1\n",
       "9                              MDTCC     1\n",
       "10                               OSM     3\n",
       "11                          Eurostat     7\n",
       "12                              heat     3\n",
       "13                             water    10\n",
       "14                               GIS     5\n",
       "15                                UN    16\n",
       "16                         interview     3\n",
       "17                     questionnaire     3\n",
       "18                 satellite imagery     7\n",
       "19                               IEA     5\n",
       "20                               ADB     2\n",
       "21                               FAO     3\n",
       "22                               WHO     2\n",
       "23                              OECD     4\n",
       "24                               IMF     1\n",
       "25               Global Carbon Atlas     1\n",
       "26                           Rosstat     1\n",
       "27                            sensor     3\n",
       "28                            census     6\n",
       "29                              GADM     2\n",
       "30                              SDSN     1\n",
       "31                       focus group     1\n",
       "32                           mineral     1\n",
       "33                            SESRIC     1\n",
       "34                               EIA     2\n",
       "35                               GPS     2\n",
       "36                     Freedom House     1\n",
       "37                           weather     1\n",
       "38                            UNESCO     1"
      ]
     },
     "execution_count": 8,
     "metadata": {},
     "output_type": "execute_result"
    }
   ],
   "source": [
    "resources = []\n",
    "freq = []\n",
    "for key, value in resource_freq.items():\n",
    "    resources.append(key)\n",
    "    freq.append(value)\n",
    "data = {'resources':resources, 'freq':freq}\n",
    "freq_df = pd.DataFrame(data)\n",
    "freq_df"
   ]
  },
  {
   "cell_type": "code",
   "execution_count": 9,
   "id": "a3a1d338",
   "metadata": {},
   "outputs": [],
   "source": [
    "freq_df_whole = freq_df\n",
    "characters = []\n",
    "parent = []\n",
    "frequency = []"
   ]
  },
  {
   "cell_type": "code",
   "execution_count": 10,
   "id": "daac7349",
   "metadata": {},
   "outputs": [],
   "source": [
    "def find_parent(string):\n",
    "    parent = ''\n",
    "    # for level 5\n",
    "    if string == 'FAO' or string == 'UN' or string == 'SDSN' or string == 'UNESCO' or string == 'WHO':\n",
    "        parent = 'UN organ.'\n",
    "    if string == 'Eurostat' or string == 'EDGAR' or string == 'Copernicus' or string == 'ESDAC':\n",
    "        parent = 'EU organ.'\n",
    "    if string == 'World Bank' or string == 'IEA' or string == 'OECD' or string == 'IMF' or string == 'Global Carbon Atlas' or string == 'Global Footprint Network' or string == 'SESRIC' or string == 'BP Statistical Review of World Energy' or string == 'ADB' or string == 'World Pop' or string == 'GADM':\n",
    "        parent = 'other I-organ.'\n",
    "    if string == 'Rosstat' or string == 'General Statistics Office' or string == 'Central Statistical Office' or string == 'National Institute of Statistics' or string == 'DOSM' or string == 'National Bureau of Statistics of Tanzania':\n",
    "        parent = 'statistics'\n",
    "    if string == 'Ministry of Education and Science of Ukraine' or string == 'BGR' or string == 'NPC' or string == 'ANPM' or string == 'EIA' or string == 'MDTCC' or string == 'NOAA' or string == 'NASA' or string == 'Freedom House':\n",
    "        parent = 'other N-organ.'\n",
    "    # for level 4    \n",
    "    if string == 'UN organ.' or string == 'EU organ.' or string == 'other I-organ.':\n",
    "        parent = 'international'\n",
    "    if string == 'statistics' or string == 'other N-organ.':\n",
    "        parent = 'national'   \n",
    "    # for level 3\n",
    "    if string == 'questionnaire' or string == 'interview' or string == 'survey' or string == 'census' or string == 'focus group':\n",
    "        parent = 'traditional statistics'\n",
    "    if string == 'international' or string == 'national':\n",
    "        parent = 'organ. and databases'\n",
    "    if string == 'mineral' or string == 'water' or string == 'land' or string == 'electricity' or string == 'biomass' or string == 'solar' or string == 'heat':\n",
    "        parent = 'resource'\n",
    "    if string == 'satellite imagery' or string == 'GPS' or string == 'GIS' or string == 'OSM':\n",
    "        parent = 'geographic'\n",
    "    # for level 2\n",
    "    if string == 'traditional statistics' or string == 'organ. and databases':\n",
    "        parent = 'data sources'\n",
    "    if string == 'weather' or string == 'sensor' or string == 'resource' or string == 'geographic':\n",
    "        parent = 'data types'\n",
    "    # for level 1\n",
    "    if string == 'data sources' or string == 'data types':\n",
    "        parent = ''\n",
    "    return parent"
   ]
  },
  {
   "cell_type": "code",
   "execution_count": 11,
   "id": "88c870b2",
   "metadata": {},
   "outputs": [],
   "source": [
    "def update_result(df, characters, parent, frequency, level):\n",
    "    for i in range(len(df['resources'])):\n",
    "        if df['resources'][i] in level:\n",
    "            characters.append(df['resources'][i])\n",
    "            frequency.append(df['freq'][i])\n",
    "            iparent = find_parent(df['resources'][i])\n",
    "            parent.append(iparent)\n",
    "            # update the dataframe\n",
    "            df.loc[i,'resources'] = iparent "
   ]
  },
  {
   "cell_type": "code",
   "execution_count": 12,
   "id": "bd84e086",
   "metadata": {},
   "outputs": [],
   "source": [
    "level5 = ['FAO','UN','SDSN','UNESCO','WHO',\n",
    "          'Eurostat','EDGAR','Copernicus','ESDAC',\n",
    "          'World Bank','IEA','OECD','IMF','Global Carbon Atlas','Global Footprint Network','SESRIC','BP Statistical Review of World Energy','ADB','World Pop','GADM',\n",
    "          'Rosstat','General Statistics Office','Central Statistical Office','National Institute of Statistics','DOSM','National Bureau of Statistics of Tanzania',\n",
    "          'Ministry of Education and Science of Ukraine','BGR','NPC','ANPM','EIA','MDTCC','NOAA','NASA','Freedom House']\n",
    "level4 = ['UN organ.','EU organ.','other I-organ.',\n",
    "          'statistics','other N-organ.']\n",
    "level3 = ['questionnaire','interview','survey','census','focus group',\n",
    "          'international','national',\n",
    "          'mineral','water','land','electricity','biomass','solar','heat',\n",
    "          'satellite imagery','GPS','GIS','OSM']\n",
    "level2 = ['traditional statistics','organ. and databases',\n",
    "          'weather','sensor','resource','geographic']\n",
    "level1 = ['data sources','data types']\n",
    "levels = [level5, level4, level3, level2, level1]"
   ]
  },
  {
   "cell_type": "code",
   "execution_count": 13,
   "id": "29ed55a6",
   "metadata": {},
   "outputs": [
    {
     "name": "stdout",
     "output_type": "stream",
     "text": [
      "['World Bank', 'National Institute of Statistics', 'ANPM', 'DOSM', 'MDTCC', 'Eurostat', 'UN', 'IEA', 'ADB', 'FAO', 'WHO', 'OECD', 'IMF', 'Global Carbon Atlas', 'Rosstat', 'GADM', 'SDSN', 'SESRIC', 'EIA', 'Freedom House', 'UNESCO', 'EU organ.', 'UN organ.', 'other I-organ.', 'other N-organ.', 'statistics', 'GIS', 'GPS', 'OSM', 'biomass', 'census', 'electricity', 'focus group', 'heat', 'international', 'interview', 'land', 'mineral', 'national', 'questionnaire', 'satellite imagery', 'solar', 'survey', 'water', 'geographic', 'organ. and databases', 'resource', 'sensor', 'traditional statistics', 'weather', 'data sources', 'data types']\n",
      "['other I-organ.', 'statistics', 'other N-organ.', 'statistics', 'other N-organ.', 'EU organ.', 'UN organ.', 'other I-organ.', 'other I-organ.', 'UN organ.', 'UN organ.', 'other I-organ.', 'other I-organ.', 'other I-organ.', 'statistics', 'other I-organ.', 'UN organ.', 'other I-organ.', 'other N-organ.', 'other N-organ.', 'UN organ.', 'international', 'international', 'international', 'national', 'national', 'geographic', 'geographic', 'geographic', 'resource', 'traditional statistics', 'resource', 'traditional statistics', 'resource', 'organ. and databases', 'traditional statistics', 'resource', 'resource', 'organ. and databases', 'traditional statistics', 'geographic', 'resource', 'traditional statistics', 'resource', 'data types', 'data sources', 'data types', 'data types', 'data sources', 'data types', '', '']\n",
      "[21, 1, 1, 1, 1, 7, 16, 5, 2, 3, 2, 4, 1, 1, 1, 2, 1, 1, 2, 1, 1, 7, 23, 37, 5, 3, 5, 2, 3, 5, 6, 20, 1, 3, 67, 3, 14, 1, 8, 3, 7, 10, 17, 10, 17, 75, 63, 3, 30, 1, 105, 84]\n"
     ]
    }
   ],
   "source": [
    "for i in range(len(levels)):\n",
    "    update_result(freq_df_whole, characters, parent, frequency, levels[i])\n",
    "    freq_df_whole = freq_df_whole.groupby('resources').sum().reset_index()\n",
    "\n",
    "print(characters)\n",
    "print(parent)\n",
    "print(frequency)"
   ]
  },
  {
   "cell_type": "code",
   "execution_count": 14,
   "id": "cd85b332",
   "metadata": {},
   "outputs": [
    {
     "data": {
      "application/vnd.plotly.v1+json": {
       "config": {
        "plotlyServerURL": "https://plot.ly"
       },
       "data": [
        {
         "branchvalues": "total",
         "domain": {
          "x": [
           0,
           1
          ],
          "y": [
           0,
           1
          ]
         },
         "hovertemplate": "label=%{label}<br>value=%{value}<br>parent=%{parent}<extra></extra>",
         "labels": [
          "World Bank",
          "National Institute of Statistics",
          "ANPM",
          "DOSM",
          "MDTCC",
          "Eurostat",
          "UN",
          "IEA",
          "ADB",
          "FAO",
          "WHO",
          "OECD",
          "IMF",
          "Global Carbon Atlas",
          "Rosstat",
          "GADM",
          "SDSN",
          "SESRIC",
          "EIA",
          "Freedom House",
          "UNESCO",
          "EU organ.",
          "UN organ.",
          "other I-organ.",
          "other N-organ.",
          "statistics",
          "GIS",
          "GPS",
          "OSM",
          "biomass",
          "census",
          "electricity",
          "focus group",
          "heat",
          "international",
          "interview",
          "land",
          "mineral",
          "national",
          "questionnaire",
          "satellite imagery",
          "solar",
          "survey",
          "water",
          "geographic",
          "organ. and databases",
          "resource",
          "sensor",
          "traditional statistics",
          "weather",
          "data sources",
          "data types"
         ],
         "marker": {
          "colors": [
           "#00cc96",
           "#ab63fa",
           "#FFA15A",
           "#ab63fa",
           "#FFA15A",
           "#19d3f3",
           "#FF6692",
           "#00cc96",
           "#00cc96",
           "#FF6692",
           "#FF6692",
           "#00cc96",
           "#00cc96",
           "#00cc96",
           "#ab63fa",
           "#00cc96",
           "#FF6692",
           "#00cc96",
           "#FFA15A",
           "#FFA15A",
           "#FF6692",
           "#B6E880",
           "#B6E880",
           "#B6E880",
           "#FF97FF",
           "#FF97FF",
           "#FECB52",
           "#FECB52",
           "#FECB52",
           "#636efa",
           "#EF553B",
           "#636efa",
           "#EF553B",
           "#636efa",
           "#00cc96",
           "#EF553B",
           "#636efa",
           "#636efa",
           "#00cc96",
           "#EF553B",
           "#FECB52",
           "#636efa",
           "#EF553B",
           "#636efa",
           "darkblue",
           "gold",
           "darkblue",
           "darkblue",
           "gold",
           "darkblue",
           "#ab63fa",
           "#ab63fa"
          ]
         },
         "name": "",
         "parents": [
          "other I-organ.",
          "statistics",
          "other N-organ.",
          "statistics",
          "other N-organ.",
          "EU organ.",
          "UN organ.",
          "other I-organ.",
          "other I-organ.",
          "UN organ.",
          "UN organ.",
          "other I-organ.",
          "other I-organ.",
          "other I-organ.",
          "statistics",
          "other I-organ.",
          "UN organ.",
          "other I-organ.",
          "other N-organ.",
          "other N-organ.",
          "UN organ.",
          "international",
          "international",
          "international",
          "national",
          "national",
          "geographic",
          "geographic",
          "geographic",
          "resource",
          "traditional statistics",
          "resource",
          "traditional statistics",
          "resource",
          "organ. and databases",
          "traditional statistics",
          "resource",
          "resource",
          "organ. and databases",
          "traditional statistics",
          "geographic",
          "resource",
          "traditional statistics",
          "resource",
          "data types",
          "data sources",
          "data types",
          "data types",
          "data sources",
          "data types",
          "",
          ""
         ],
         "texttemplate": "%{label} %{percentRoot:.1%}",
         "type": "sunburst",
         "values": [
          21,
          1,
          1,
          1,
          1,
          7,
          16,
          5,
          2,
          3,
          2,
          4,
          1,
          1,
          1,
          2,
          1,
          1,
          2,
          1,
          1,
          7,
          23,
          37,
          5,
          3,
          5,
          2,
          3,
          5,
          6,
          20,
          1,
          3,
          67,
          3,
          14,
          1,
          8,
          3,
          7,
          10,
          17,
          10,
          17,
          75,
          63,
          3,
          30,
          1,
          105,
          84
         ]
        }
       ],
       "layout": {
        "height": 900,
        "legend": {
         "tracegroupgap": 0
        },
        "margin": {
         "b": 10,
         "l": 10,
         "r": 10,
         "t": 100
        },
        "template": {
         "data": {
          "bar": [
           {
            "error_x": {
             "color": "#2a3f5f"
            },
            "error_y": {
             "color": "#2a3f5f"
            },
            "marker": {
             "line": {
              "color": "#E5ECF6",
              "width": 0.5
             },
             "pattern": {
              "fillmode": "overlay",
              "size": 10,
              "solidity": 0.2
             }
            },
            "type": "bar"
           }
          ],
          "barpolar": [
           {
            "marker": {
             "line": {
              "color": "#E5ECF6",
              "width": 0.5
             },
             "pattern": {
              "fillmode": "overlay",
              "size": 10,
              "solidity": 0.2
             }
            },
            "type": "barpolar"
           }
          ],
          "carpet": [
           {
            "aaxis": {
             "endlinecolor": "#2a3f5f",
             "gridcolor": "white",
             "linecolor": "white",
             "minorgridcolor": "white",
             "startlinecolor": "#2a3f5f"
            },
            "baxis": {
             "endlinecolor": "#2a3f5f",
             "gridcolor": "white",
             "linecolor": "white",
             "minorgridcolor": "white",
             "startlinecolor": "#2a3f5f"
            },
            "type": "carpet"
           }
          ],
          "choropleth": [
           {
            "colorbar": {
             "outlinewidth": 0,
             "ticks": ""
            },
            "type": "choropleth"
           }
          ],
          "contour": [
           {
            "colorbar": {
             "outlinewidth": 0,
             "ticks": ""
            },
            "colorscale": [
             [
              0,
              "#0d0887"
             ],
             [
              0.1111111111111111,
              "#46039f"
             ],
             [
              0.2222222222222222,
              "#7201a8"
             ],
             [
              0.3333333333333333,
              "#9c179e"
             ],
             [
              0.4444444444444444,
              "#bd3786"
             ],
             [
              0.5555555555555556,
              "#d8576b"
             ],
             [
              0.6666666666666666,
              "#ed7953"
             ],
             [
              0.7777777777777778,
              "#fb9f3a"
             ],
             [
              0.8888888888888888,
              "#fdca26"
             ],
             [
              1,
              "#f0f921"
             ]
            ],
            "type": "contour"
           }
          ],
          "contourcarpet": [
           {
            "colorbar": {
             "outlinewidth": 0,
             "ticks": ""
            },
            "type": "contourcarpet"
           }
          ],
          "heatmap": [
           {
            "colorbar": {
             "outlinewidth": 0,
             "ticks": ""
            },
            "colorscale": [
             [
              0,
              "#0d0887"
             ],
             [
              0.1111111111111111,
              "#46039f"
             ],
             [
              0.2222222222222222,
              "#7201a8"
             ],
             [
              0.3333333333333333,
              "#9c179e"
             ],
             [
              0.4444444444444444,
              "#bd3786"
             ],
             [
              0.5555555555555556,
              "#d8576b"
             ],
             [
              0.6666666666666666,
              "#ed7953"
             ],
             [
              0.7777777777777778,
              "#fb9f3a"
             ],
             [
              0.8888888888888888,
              "#fdca26"
             ],
             [
              1,
              "#f0f921"
             ]
            ],
            "type": "heatmap"
           }
          ],
          "heatmapgl": [
           {
            "colorbar": {
             "outlinewidth": 0,
             "ticks": ""
            },
            "colorscale": [
             [
              0,
              "#0d0887"
             ],
             [
              0.1111111111111111,
              "#46039f"
             ],
             [
              0.2222222222222222,
              "#7201a8"
             ],
             [
              0.3333333333333333,
              "#9c179e"
             ],
             [
              0.4444444444444444,
              "#bd3786"
             ],
             [
              0.5555555555555556,
              "#d8576b"
             ],
             [
              0.6666666666666666,
              "#ed7953"
             ],
             [
              0.7777777777777778,
              "#fb9f3a"
             ],
             [
              0.8888888888888888,
              "#fdca26"
             ],
             [
              1,
              "#f0f921"
             ]
            ],
            "type": "heatmapgl"
           }
          ],
          "histogram": [
           {
            "marker": {
             "pattern": {
              "fillmode": "overlay",
              "size": 10,
              "solidity": 0.2
             }
            },
            "type": "histogram"
           }
          ],
          "histogram2d": [
           {
            "colorbar": {
             "outlinewidth": 0,
             "ticks": ""
            },
            "colorscale": [
             [
              0,
              "#0d0887"
             ],
             [
              0.1111111111111111,
              "#46039f"
             ],
             [
              0.2222222222222222,
              "#7201a8"
             ],
             [
              0.3333333333333333,
              "#9c179e"
             ],
             [
              0.4444444444444444,
              "#bd3786"
             ],
             [
              0.5555555555555556,
              "#d8576b"
             ],
             [
              0.6666666666666666,
              "#ed7953"
             ],
             [
              0.7777777777777778,
              "#fb9f3a"
             ],
             [
              0.8888888888888888,
              "#fdca26"
             ],
             [
              1,
              "#f0f921"
             ]
            ],
            "type": "histogram2d"
           }
          ],
          "histogram2dcontour": [
           {
            "colorbar": {
             "outlinewidth": 0,
             "ticks": ""
            },
            "colorscale": [
             [
              0,
              "#0d0887"
             ],
             [
              0.1111111111111111,
              "#46039f"
             ],
             [
              0.2222222222222222,
              "#7201a8"
             ],
             [
              0.3333333333333333,
              "#9c179e"
             ],
             [
              0.4444444444444444,
              "#bd3786"
             ],
             [
              0.5555555555555556,
              "#d8576b"
             ],
             [
              0.6666666666666666,
              "#ed7953"
             ],
             [
              0.7777777777777778,
              "#fb9f3a"
             ],
             [
              0.8888888888888888,
              "#fdca26"
             ],
             [
              1,
              "#f0f921"
             ]
            ],
            "type": "histogram2dcontour"
           }
          ],
          "mesh3d": [
           {
            "colorbar": {
             "outlinewidth": 0,
             "ticks": ""
            },
            "type": "mesh3d"
           }
          ],
          "parcoords": [
           {
            "line": {
             "colorbar": {
              "outlinewidth": 0,
              "ticks": ""
             }
            },
            "type": "parcoords"
           }
          ],
          "pie": [
           {
            "automargin": true,
            "type": "pie"
           }
          ],
          "scatter": [
           {
            "fillpattern": {
             "fillmode": "overlay",
             "size": 10,
             "solidity": 0.2
            },
            "type": "scatter"
           }
          ],
          "scatter3d": [
           {
            "line": {
             "colorbar": {
              "outlinewidth": 0,
              "ticks": ""
             }
            },
            "marker": {
             "colorbar": {
              "outlinewidth": 0,
              "ticks": ""
             }
            },
            "type": "scatter3d"
           }
          ],
          "scattercarpet": [
           {
            "marker": {
             "colorbar": {
              "outlinewidth": 0,
              "ticks": ""
             }
            },
            "type": "scattercarpet"
           }
          ],
          "scattergeo": [
           {
            "marker": {
             "colorbar": {
              "outlinewidth": 0,
              "ticks": ""
             }
            },
            "type": "scattergeo"
           }
          ],
          "scattergl": [
           {
            "marker": {
             "colorbar": {
              "outlinewidth": 0,
              "ticks": ""
             }
            },
            "type": "scattergl"
           }
          ],
          "scattermapbox": [
           {
            "marker": {
             "colorbar": {
              "outlinewidth": 0,
              "ticks": ""
             }
            },
            "type": "scattermapbox"
           }
          ],
          "scatterpolar": [
           {
            "marker": {
             "colorbar": {
              "outlinewidth": 0,
              "ticks": ""
             }
            },
            "type": "scatterpolar"
           }
          ],
          "scatterpolargl": [
           {
            "marker": {
             "colorbar": {
              "outlinewidth": 0,
              "ticks": ""
             }
            },
            "type": "scatterpolargl"
           }
          ],
          "scatterternary": [
           {
            "marker": {
             "colorbar": {
              "outlinewidth": 0,
              "ticks": ""
             }
            },
            "type": "scatterternary"
           }
          ],
          "surface": [
           {
            "colorbar": {
             "outlinewidth": 0,
             "ticks": ""
            },
            "colorscale": [
             [
              0,
              "#0d0887"
             ],
             [
              0.1111111111111111,
              "#46039f"
             ],
             [
              0.2222222222222222,
              "#7201a8"
             ],
             [
              0.3333333333333333,
              "#9c179e"
             ],
             [
              0.4444444444444444,
              "#bd3786"
             ],
             [
              0.5555555555555556,
              "#d8576b"
             ],
             [
              0.6666666666666666,
              "#ed7953"
             ],
             [
              0.7777777777777778,
              "#fb9f3a"
             ],
             [
              0.8888888888888888,
              "#fdca26"
             ],
             [
              1,
              "#f0f921"
             ]
            ],
            "type": "surface"
           }
          ],
          "table": [
           {
            "cells": {
             "fill": {
              "color": "#EBF0F8"
             },
             "line": {
              "color": "white"
             }
            },
            "header": {
             "fill": {
              "color": "#C8D4E3"
             },
             "line": {
              "color": "white"
             }
            },
            "type": "table"
           }
          ]
         },
         "layout": {
          "annotationdefaults": {
           "arrowcolor": "#2a3f5f",
           "arrowhead": 0,
           "arrowwidth": 1
          },
          "autotypenumbers": "strict",
          "coloraxis": {
           "colorbar": {
            "outlinewidth": 0,
            "ticks": ""
           }
          },
          "colorscale": {
           "diverging": [
            [
             0,
             "#8e0152"
            ],
            [
             0.1,
             "#c51b7d"
            ],
            [
             0.2,
             "#de77ae"
            ],
            [
             0.3,
             "#f1b6da"
            ],
            [
             0.4,
             "#fde0ef"
            ],
            [
             0.5,
             "#f7f7f7"
            ],
            [
             0.6,
             "#e6f5d0"
            ],
            [
             0.7,
             "#b8e186"
            ],
            [
             0.8,
             "#7fbc41"
            ],
            [
             0.9,
             "#4d9221"
            ],
            [
             1,
             "#276419"
            ]
           ],
           "sequential": [
            [
             0,
             "#0d0887"
            ],
            [
             0.1111111111111111,
             "#46039f"
            ],
            [
             0.2222222222222222,
             "#7201a8"
            ],
            [
             0.3333333333333333,
             "#9c179e"
            ],
            [
             0.4444444444444444,
             "#bd3786"
            ],
            [
             0.5555555555555556,
             "#d8576b"
            ],
            [
             0.6666666666666666,
             "#ed7953"
            ],
            [
             0.7777777777777778,
             "#fb9f3a"
            ],
            [
             0.8888888888888888,
             "#fdca26"
            ],
            [
             1,
             "#f0f921"
            ]
           ],
           "sequentialminus": [
            [
             0,
             "#0d0887"
            ],
            [
             0.1111111111111111,
             "#46039f"
            ],
            [
             0.2222222222222222,
             "#7201a8"
            ],
            [
             0.3333333333333333,
             "#9c179e"
            ],
            [
             0.4444444444444444,
             "#bd3786"
            ],
            [
             0.5555555555555556,
             "#d8576b"
            ],
            [
             0.6666666666666666,
             "#ed7953"
            ],
            [
             0.7777777777777778,
             "#fb9f3a"
            ],
            [
             0.8888888888888888,
             "#fdca26"
            ],
            [
             1,
             "#f0f921"
            ]
           ]
          },
          "colorway": [
           "#636efa",
           "#EF553B",
           "#00cc96",
           "#ab63fa",
           "#FFA15A",
           "#19d3f3",
           "#FF6692",
           "#B6E880",
           "#FF97FF",
           "#FECB52"
          ],
          "font": {
           "color": "#2a3f5f"
          },
          "geo": {
           "bgcolor": "white",
           "lakecolor": "white",
           "landcolor": "#E5ECF6",
           "showlakes": true,
           "showland": true,
           "subunitcolor": "white"
          },
          "hoverlabel": {
           "align": "left"
          },
          "hovermode": "closest",
          "mapbox": {
           "style": "light"
          },
          "paper_bgcolor": "white",
          "plot_bgcolor": "#E5ECF6",
          "polar": {
           "angularaxis": {
            "gridcolor": "white",
            "linecolor": "white",
            "ticks": ""
           },
           "bgcolor": "#E5ECF6",
           "radialaxis": {
            "gridcolor": "white",
            "linecolor": "white",
            "ticks": ""
           }
          },
          "scene": {
           "xaxis": {
            "backgroundcolor": "#E5ECF6",
            "gridcolor": "white",
            "gridwidth": 2,
            "linecolor": "white",
            "showbackground": true,
            "ticks": "",
            "zerolinecolor": "white"
           },
           "yaxis": {
            "backgroundcolor": "#E5ECF6",
            "gridcolor": "white",
            "gridwidth": 2,
            "linecolor": "white",
            "showbackground": true,
            "ticks": "",
            "zerolinecolor": "white"
           },
           "zaxis": {
            "backgroundcolor": "#E5ECF6",
            "gridcolor": "white",
            "gridwidth": 2,
            "linecolor": "white",
            "showbackground": true,
            "ticks": "",
            "zerolinecolor": "white"
           }
          },
          "shapedefaults": {
           "line": {
            "color": "#2a3f5f"
           }
          },
          "ternary": {
           "aaxis": {
            "gridcolor": "white",
            "linecolor": "white",
            "ticks": ""
           },
           "baxis": {
            "gridcolor": "white",
            "linecolor": "white",
            "ticks": ""
           },
           "bgcolor": "#E5ECF6",
           "caxis": {
            "gridcolor": "white",
            "linecolor": "white",
            "ticks": ""
           }
          },
          "title": {
           "x": 0.05
          },
          "xaxis": {
           "automargin": true,
           "gridcolor": "white",
           "linecolor": "white",
           "ticks": "",
           "title": {
            "standoff": 15
           },
           "zerolinecolor": "white",
           "zerolinewidth": 2
          },
          "yaxis": {
           "automargin": true,
           "gridcolor": "white",
           "linecolor": "white",
           "ticks": "",
           "title": {
            "standoff": 15
           },
           "zerolinecolor": "white",
           "zerolinewidth": 2
          }
         }
        },
        "width": 900
       }
      },
      "text/html": [
       "<div>                            <div id=\"210eb58e-72d6-42c5-bf27-fa1aa1022cfa\" class=\"plotly-graph-div\" style=\"height:900px; width:900px;\"></div>            <script type=\"text/javascript\">                require([\"plotly\"], function(Plotly) {                    window.PLOTLYENV=window.PLOTLYENV || {};                                    if (document.getElementById(\"210eb58e-72d6-42c5-bf27-fa1aa1022cfa\")) {                    Plotly.newPlot(                        \"210eb58e-72d6-42c5-bf27-fa1aa1022cfa\",                        [{\"branchvalues\":\"total\",\"domain\":{\"x\":[0.0,1.0],\"y\":[0.0,1.0]},\"hovertemplate\":\"label=%{label}<br>value=%{value}<br>parent=%{parent}<extra></extra>\",\"labels\":[\"World Bank\",\"National Institute of Statistics\",\"ANPM\",\"DOSM\",\"MDTCC\",\"Eurostat\",\"UN\",\"IEA\",\"ADB\",\"FAO\",\"WHO\",\"OECD\",\"IMF\",\"Global Carbon Atlas\",\"Rosstat\",\"GADM\",\"SDSN\",\"SESRIC\",\"EIA\",\"Freedom House\",\"UNESCO\",\"EU organ.\",\"UN organ.\",\"other I-organ.\",\"other N-organ.\",\"statistics\",\"GIS\",\"GPS\",\"OSM\",\"biomass\",\"census\",\"electricity\",\"focus group\",\"heat\",\"international\",\"interview\",\"land\",\"mineral\",\"national\",\"questionnaire\",\"satellite imagery\",\"solar\",\"survey\",\"water\",\"geographic\",\"organ. and databases\",\"resource\",\"sensor\",\"traditional statistics\",\"weather\",\"data sources\",\"data types\"],\"marker\":{\"colors\":[\"#00cc96\",\"#ab63fa\",\"#FFA15A\",\"#ab63fa\",\"#FFA15A\",\"#19d3f3\",\"#FF6692\",\"#00cc96\",\"#00cc96\",\"#FF6692\",\"#FF6692\",\"#00cc96\",\"#00cc96\",\"#00cc96\",\"#ab63fa\",\"#00cc96\",\"#FF6692\",\"#00cc96\",\"#FFA15A\",\"#FFA15A\",\"#FF6692\",\"#B6E880\",\"#B6E880\",\"#B6E880\",\"#FF97FF\",\"#FF97FF\",\"#FECB52\",\"#FECB52\",\"#FECB52\",\"#636efa\",\"#EF553B\",\"#636efa\",\"#EF553B\",\"#636efa\",\"#00cc96\",\"#EF553B\",\"#636efa\",\"#636efa\",\"#00cc96\",\"#EF553B\",\"#FECB52\",\"#636efa\",\"#EF553B\",\"#636efa\",\"darkblue\",\"gold\",\"darkblue\",\"darkblue\",\"gold\",\"darkblue\",\"#ab63fa\",\"#ab63fa\"]},\"name\":\"\",\"parents\":[\"other I-organ.\",\"statistics\",\"other N-organ.\",\"statistics\",\"other N-organ.\",\"EU organ.\",\"UN organ.\",\"other I-organ.\",\"other I-organ.\",\"UN organ.\",\"UN organ.\",\"other I-organ.\",\"other I-organ.\",\"other I-organ.\",\"statistics\",\"other I-organ.\",\"UN organ.\",\"other I-organ.\",\"other N-organ.\",\"other N-organ.\",\"UN organ.\",\"international\",\"international\",\"international\",\"national\",\"national\",\"geographic\",\"geographic\",\"geographic\",\"resource\",\"traditional statistics\",\"resource\",\"traditional statistics\",\"resource\",\"organ. and databases\",\"traditional statistics\",\"resource\",\"resource\",\"organ. and databases\",\"traditional statistics\",\"geographic\",\"resource\",\"traditional statistics\",\"resource\",\"data types\",\"data sources\",\"data types\",\"data types\",\"data sources\",\"data types\",\"\",\"\"],\"values\":[21,1,1,1,1,7,16,5,2,3,2,4,1,1,1,2,1,1,2,1,1,7,23,37,5,3,5,2,3,5,6,20,1,3,67,3,14,1,8,3,7,10,17,10,17,75,63,3,30,1,105,84],\"type\":\"sunburst\",\"texttemplate\":\"%{label} %{percentRoot:.1%}\"}],                        {\"template\":{\"data\":{\"histogram2dcontour\":[{\"type\":\"histogram2dcontour\",\"colorbar\":{\"outlinewidth\":0,\"ticks\":\"\"},\"colorscale\":[[0.0,\"#0d0887\"],[0.1111111111111111,\"#46039f\"],[0.2222222222222222,\"#7201a8\"],[0.3333333333333333,\"#9c179e\"],[0.4444444444444444,\"#bd3786\"],[0.5555555555555556,\"#d8576b\"],[0.6666666666666666,\"#ed7953\"],[0.7777777777777778,\"#fb9f3a\"],[0.8888888888888888,\"#fdca26\"],[1.0,\"#f0f921\"]]}],\"choropleth\":[{\"type\":\"choropleth\",\"colorbar\":{\"outlinewidth\":0,\"ticks\":\"\"}}],\"histogram2d\":[{\"type\":\"histogram2d\",\"colorbar\":{\"outlinewidth\":0,\"ticks\":\"\"},\"colorscale\":[[0.0,\"#0d0887\"],[0.1111111111111111,\"#46039f\"],[0.2222222222222222,\"#7201a8\"],[0.3333333333333333,\"#9c179e\"],[0.4444444444444444,\"#bd3786\"],[0.5555555555555556,\"#d8576b\"],[0.6666666666666666,\"#ed7953\"],[0.7777777777777778,\"#fb9f3a\"],[0.8888888888888888,\"#fdca26\"],[1.0,\"#f0f921\"]]}],\"heatmap\":[{\"type\":\"heatmap\",\"colorbar\":{\"outlinewidth\":0,\"ticks\":\"\"},\"colorscale\":[[0.0,\"#0d0887\"],[0.1111111111111111,\"#46039f\"],[0.2222222222222222,\"#7201a8\"],[0.3333333333333333,\"#9c179e\"],[0.4444444444444444,\"#bd3786\"],[0.5555555555555556,\"#d8576b\"],[0.6666666666666666,\"#ed7953\"],[0.7777777777777778,\"#fb9f3a\"],[0.8888888888888888,\"#fdca26\"],[1.0,\"#f0f921\"]]}],\"heatmapgl\":[{\"type\":\"heatmapgl\",\"colorbar\":{\"outlinewidth\":0,\"ticks\":\"\"},\"colorscale\":[[0.0,\"#0d0887\"],[0.1111111111111111,\"#46039f\"],[0.2222222222222222,\"#7201a8\"],[0.3333333333333333,\"#9c179e\"],[0.4444444444444444,\"#bd3786\"],[0.5555555555555556,\"#d8576b\"],[0.6666666666666666,\"#ed7953\"],[0.7777777777777778,\"#fb9f3a\"],[0.8888888888888888,\"#fdca26\"],[1.0,\"#f0f921\"]]}],\"contourcarpet\":[{\"type\":\"contourcarpet\",\"colorbar\":{\"outlinewidth\":0,\"ticks\":\"\"}}],\"contour\":[{\"type\":\"contour\",\"colorbar\":{\"outlinewidth\":0,\"ticks\":\"\"},\"colorscale\":[[0.0,\"#0d0887\"],[0.1111111111111111,\"#46039f\"],[0.2222222222222222,\"#7201a8\"],[0.3333333333333333,\"#9c179e\"],[0.4444444444444444,\"#bd3786\"],[0.5555555555555556,\"#d8576b\"],[0.6666666666666666,\"#ed7953\"],[0.7777777777777778,\"#fb9f3a\"],[0.8888888888888888,\"#fdca26\"],[1.0,\"#f0f921\"]]}],\"surface\":[{\"type\":\"surface\",\"colorbar\":{\"outlinewidth\":0,\"ticks\":\"\"},\"colorscale\":[[0.0,\"#0d0887\"],[0.1111111111111111,\"#46039f\"],[0.2222222222222222,\"#7201a8\"],[0.3333333333333333,\"#9c179e\"],[0.4444444444444444,\"#bd3786\"],[0.5555555555555556,\"#d8576b\"],[0.6666666666666666,\"#ed7953\"],[0.7777777777777778,\"#fb9f3a\"],[0.8888888888888888,\"#fdca26\"],[1.0,\"#f0f921\"]]}],\"mesh3d\":[{\"type\":\"mesh3d\",\"colorbar\":{\"outlinewidth\":0,\"ticks\":\"\"}}],\"scatter\":[{\"fillpattern\":{\"fillmode\":\"overlay\",\"size\":10,\"solidity\":0.2},\"type\":\"scatter\"}],\"parcoords\":[{\"type\":\"parcoords\",\"line\":{\"colorbar\":{\"outlinewidth\":0,\"ticks\":\"\"}}}],\"scatterpolargl\":[{\"type\":\"scatterpolargl\",\"marker\":{\"colorbar\":{\"outlinewidth\":0,\"ticks\":\"\"}}}],\"bar\":[{\"error_x\":{\"color\":\"#2a3f5f\"},\"error_y\":{\"color\":\"#2a3f5f\"},\"marker\":{\"line\":{\"color\":\"#E5ECF6\",\"width\":0.5},\"pattern\":{\"fillmode\":\"overlay\",\"size\":10,\"solidity\":0.2}},\"type\":\"bar\"}],\"scattergeo\":[{\"type\":\"scattergeo\",\"marker\":{\"colorbar\":{\"outlinewidth\":0,\"ticks\":\"\"}}}],\"scatterpolar\":[{\"type\":\"scatterpolar\",\"marker\":{\"colorbar\":{\"outlinewidth\":0,\"ticks\":\"\"}}}],\"histogram\":[{\"marker\":{\"pattern\":{\"fillmode\":\"overlay\",\"size\":10,\"solidity\":0.2}},\"type\":\"histogram\"}],\"scattergl\":[{\"type\":\"scattergl\",\"marker\":{\"colorbar\":{\"outlinewidth\":0,\"ticks\":\"\"}}}],\"scatter3d\":[{\"type\":\"scatter3d\",\"line\":{\"colorbar\":{\"outlinewidth\":0,\"ticks\":\"\"}},\"marker\":{\"colorbar\":{\"outlinewidth\":0,\"ticks\":\"\"}}}],\"scattermapbox\":[{\"type\":\"scattermapbox\",\"marker\":{\"colorbar\":{\"outlinewidth\":0,\"ticks\":\"\"}}}],\"scatterternary\":[{\"type\":\"scatterternary\",\"marker\":{\"colorbar\":{\"outlinewidth\":0,\"ticks\":\"\"}}}],\"scattercarpet\":[{\"type\":\"scattercarpet\",\"marker\":{\"colorbar\":{\"outlinewidth\":0,\"ticks\":\"\"}}}],\"carpet\":[{\"aaxis\":{\"endlinecolor\":\"#2a3f5f\",\"gridcolor\":\"white\",\"linecolor\":\"white\",\"minorgridcolor\":\"white\",\"startlinecolor\":\"#2a3f5f\"},\"baxis\":{\"endlinecolor\":\"#2a3f5f\",\"gridcolor\":\"white\",\"linecolor\":\"white\",\"minorgridcolor\":\"white\",\"startlinecolor\":\"#2a3f5f\"},\"type\":\"carpet\"}],\"table\":[{\"cells\":{\"fill\":{\"color\":\"#EBF0F8\"},\"line\":{\"color\":\"white\"}},\"header\":{\"fill\":{\"color\":\"#C8D4E3\"},\"line\":{\"color\":\"white\"}},\"type\":\"table\"}],\"barpolar\":[{\"marker\":{\"line\":{\"color\":\"#E5ECF6\",\"width\":0.5},\"pattern\":{\"fillmode\":\"overlay\",\"size\":10,\"solidity\":0.2}},\"type\":\"barpolar\"}],\"pie\":[{\"automargin\":true,\"type\":\"pie\"}]},\"layout\":{\"autotypenumbers\":\"strict\",\"colorway\":[\"#636efa\",\"#EF553B\",\"#00cc96\",\"#ab63fa\",\"#FFA15A\",\"#19d3f3\",\"#FF6692\",\"#B6E880\",\"#FF97FF\",\"#FECB52\"],\"font\":{\"color\":\"#2a3f5f\"},\"hovermode\":\"closest\",\"hoverlabel\":{\"align\":\"left\"},\"paper_bgcolor\":\"white\",\"plot_bgcolor\":\"#E5ECF6\",\"polar\":{\"bgcolor\":\"#E5ECF6\",\"angularaxis\":{\"gridcolor\":\"white\",\"linecolor\":\"white\",\"ticks\":\"\"},\"radialaxis\":{\"gridcolor\":\"white\",\"linecolor\":\"white\",\"ticks\":\"\"}},\"ternary\":{\"bgcolor\":\"#E5ECF6\",\"aaxis\":{\"gridcolor\":\"white\",\"linecolor\":\"white\",\"ticks\":\"\"},\"baxis\":{\"gridcolor\":\"white\",\"linecolor\":\"white\",\"ticks\":\"\"},\"caxis\":{\"gridcolor\":\"white\",\"linecolor\":\"white\",\"ticks\":\"\"}},\"coloraxis\":{\"colorbar\":{\"outlinewidth\":0,\"ticks\":\"\"}},\"colorscale\":{\"sequential\":[[0.0,\"#0d0887\"],[0.1111111111111111,\"#46039f\"],[0.2222222222222222,\"#7201a8\"],[0.3333333333333333,\"#9c179e\"],[0.4444444444444444,\"#bd3786\"],[0.5555555555555556,\"#d8576b\"],[0.6666666666666666,\"#ed7953\"],[0.7777777777777778,\"#fb9f3a\"],[0.8888888888888888,\"#fdca26\"],[1.0,\"#f0f921\"]],\"sequentialminus\":[[0.0,\"#0d0887\"],[0.1111111111111111,\"#46039f\"],[0.2222222222222222,\"#7201a8\"],[0.3333333333333333,\"#9c179e\"],[0.4444444444444444,\"#bd3786\"],[0.5555555555555556,\"#d8576b\"],[0.6666666666666666,\"#ed7953\"],[0.7777777777777778,\"#fb9f3a\"],[0.8888888888888888,\"#fdca26\"],[1.0,\"#f0f921\"]],\"diverging\":[[0,\"#8e0152\"],[0.1,\"#c51b7d\"],[0.2,\"#de77ae\"],[0.3,\"#f1b6da\"],[0.4,\"#fde0ef\"],[0.5,\"#f7f7f7\"],[0.6,\"#e6f5d0\"],[0.7,\"#b8e186\"],[0.8,\"#7fbc41\"],[0.9,\"#4d9221\"],[1,\"#276419\"]]},\"xaxis\":{\"gridcolor\":\"white\",\"linecolor\":\"white\",\"ticks\":\"\",\"title\":{\"standoff\":15},\"zerolinecolor\":\"white\",\"automargin\":true,\"zerolinewidth\":2},\"yaxis\":{\"gridcolor\":\"white\",\"linecolor\":\"white\",\"ticks\":\"\",\"title\":{\"standoff\":15},\"zerolinecolor\":\"white\",\"automargin\":true,\"zerolinewidth\":2},\"scene\":{\"xaxis\":{\"backgroundcolor\":\"#E5ECF6\",\"gridcolor\":\"white\",\"linecolor\":\"white\",\"showbackground\":true,\"ticks\":\"\",\"zerolinecolor\":\"white\",\"gridwidth\":2},\"yaxis\":{\"backgroundcolor\":\"#E5ECF6\",\"gridcolor\":\"white\",\"linecolor\":\"white\",\"showbackground\":true,\"ticks\":\"\",\"zerolinecolor\":\"white\",\"gridwidth\":2},\"zaxis\":{\"backgroundcolor\":\"#E5ECF6\",\"gridcolor\":\"white\",\"linecolor\":\"white\",\"showbackground\":true,\"ticks\":\"\",\"zerolinecolor\":\"white\",\"gridwidth\":2}},\"shapedefaults\":{\"line\":{\"color\":\"#2a3f5f\"}},\"annotationdefaults\":{\"arrowcolor\":\"#2a3f5f\",\"arrowhead\":0,\"arrowwidth\":1},\"geo\":{\"bgcolor\":\"white\",\"landcolor\":\"#E5ECF6\",\"subunitcolor\":\"white\",\"showland\":true,\"showlakes\":true,\"lakecolor\":\"white\"},\"title\":{\"x\":0.05},\"mapbox\":{\"style\":\"light\"}}},\"legend\":{\"tracegroupgap\":0},\"margin\":{\"t\":100,\"l\":10,\"r\":10,\"b\":10},\"height\":900,\"width\":900},                        {\"responsive\": true}                    ).then(function(){\n",
       "                            \n",
       "var gd = document.getElementById('210eb58e-72d6-42c5-bf27-fa1aa1022cfa');\n",
       "var x = new MutationObserver(function (mutations, observer) {{\n",
       "        var display = window.getComputedStyle(gd).display;\n",
       "        if (!display || display === 'none') {{\n",
       "            console.log([gd, 'removed!']);\n",
       "            Plotly.purge(gd);\n",
       "            observer.disconnect();\n",
       "        }}\n",
       "}});\n",
       "\n",
       "// Listen for the removal of the full notebook cells\n",
       "var notebookContainer = gd.closest('#notebook-container');\n",
       "if (notebookContainer) {{\n",
       "    x.observe(notebookContainer, {childList: true});\n",
       "}}\n",
       "\n",
       "// Listen for the clearing of the current output cell\n",
       "var outputEl = gd.closest('.output');\n",
       "if (outputEl) {{\n",
       "    x.observe(outputEl, {childList: true});\n",
       "}}\n",
       "\n",
       "                        })                };                });            </script>        </div>"
      ]
     },
     "metadata": {},
     "output_type": "display_data"
    }
   ],
   "source": [
    "fig = px.sunburst(\n",
    "    names = characters,\n",
    "    parents = parent,\n",
    "    values = frequency,\n",
    "    branchvalues = \"total\",\n",
    "    color = parent,\n",
    "    color_discrete_map={'data sources':'gold', 'data types':'darkblue'},\n",
    "    width = 900,\n",
    "    height = 900\n",
    ")\n",
    "\n",
    "fig.update_layout(\n",
    "    margin = dict(t=100, l=10, r=10, b=10)\n",
    ")\n",
    "\n",
    "fig.update_traces(texttemplate = '%{label} %{percentRoot:.1%}')\n",
    "fig.show()"
   ]
  },
  {
   "cell_type": "code",
   "execution_count": 15,
   "id": "4d42704c",
   "metadata": {},
   "outputs": [],
   "source": [
    "fig.update_layout(margin_l=5, margin_t=5, margin_b=5, margin_r=5)\n",
    "fig.write_image(\"../figures/sdg7-data-mapping.pdf\")"
   ]
  },
  {
   "cell_type": "code",
   "execution_count": null,
   "id": "de2010ed",
   "metadata": {},
   "outputs": [],
   "source": []
  }
 ],
 "metadata": {
  "kernelspec": {
   "display_name": "Python 3 (ipykernel)",
   "language": "python",
   "name": "python3"
  },
  "language_info": {
   "codemirror_mode": {
    "name": "ipython",
    "version": 3
   },
   "file_extension": ".py",
   "mimetype": "text/x-python",
   "name": "python",
   "nbconvert_exporter": "python",
   "pygments_lexer": "ipython3",
   "version": "3.10.10"
  }
 },
 "nbformat": 4,
 "nbformat_minor": 5
}
